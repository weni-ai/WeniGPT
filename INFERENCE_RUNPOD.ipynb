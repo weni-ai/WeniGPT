{
  "nbformat": 4,
  "nbformat_minor": 0,
  "metadata": {
    "colab": {
      "provenance": []
    },
    "kernelspec": {
      "name": "python3",
      "display_name": "Python 3"
    },
    "language_info": {
      "name": "python"
    }
  },
  "cells": [
    {
      "cell_type": "markdown",
      "source": [
        "##Subir máquina\n",
        "### **APÓS RODAR A CÉLULA ABAIXO, É NECESSÁRIO REINICIAR O RUNTIME**"
      ],
      "metadata": {
        "id": "HOM8bAOaGZ-5"
      }
    },
    {
      "cell_type": "code",
      "source": [
        "%pip install langchain text-generation transformers python-dotenv git+https://github.com/runpod/runpod-python.git#egg=runpod\n",
        "!pip uninstall requests --quiet\n",
        "!pip install requests==2.31.0 --quiet\n",
        "\n",
        "import runpod\n",
        "import os\n",
        "from IPython.display import display, Markdown\n",
        "\n",
        "api_key = \"\"\n",
        "runpod.api_key = os.getenv(\"RUNPOD_API_KEY\", api_key)\n",
        "\n",
        "if runpod.api_key == \"your_runpod_api_key\":\n",
        "    display(\n",
        "        Markdown(\n",
        "            \"It appears that you don't have a RunPod API key. You can obtain one at [runpod.io](https://runpod.io?ref=s7508tca)\"\n",
        "        )\n",
        "    )\n",
        "    raise AssertionError(\"Missing RunPod API key\")"
      ],
      "metadata": {
        "id": "H26p8OU0GeuS",
        "colab": {
          "base_uri": "https://localhost:8080/"
        },
        "outputId": "dc3fd634-41be-4f04-c3ae-d7e538924a8c"
      },
      "execution_count": null,
      "outputs": [
        {
          "output_type": "stream",
          "name": "stdout",
          "text": [
            "Collecting runpod\n",
            "  Cloning https://github.com/runpod/runpod-python.git to /tmp/pip-install-vri9n_0s/runpod_745b7a8dd1f04a0096b5a51e5a2428f8\n",
            "  Running command git clone --filter=blob:none --quiet https://github.com/runpod/runpod-python.git /tmp/pip-install-vri9n_0s/runpod_745b7a8dd1f04a0096b5a51e5a2428f8\n",
            "  Resolved https://github.com/runpod/runpod-python.git to commit 5e98c20cd222889711d9d7d43f9917547b498277\n",
            "  Installing build dependencies ... \u001b[?25l\u001b[?25hdone\n",
            "  Getting requirements to build wheel ... \u001b[?25l\u001b[?25hdone\n",
            "  Preparing metadata (pyproject.toml) ... \u001b[?25l\u001b[?25hdone\n",
            "Requirement already satisfied: langchain in /usr/local/lib/python3.10/dist-packages (0.0.262)\n",
            "Requirement already satisfied: text-generation in /usr/local/lib/python3.10/dist-packages (0.6.0)\n",
            "Requirement already satisfied: transformers in /usr/local/lib/python3.10/dist-packages (4.31.0)\n",
            "Requirement already satisfied: python-dotenv in /usr/local/lib/python3.10/dist-packages (1.0.0)\n",
            "Requirement already satisfied: PyYAML>=5.3 in /usr/local/lib/python3.10/dist-packages (from langchain) (6.0.1)\n",
            "Requirement already satisfied: SQLAlchemy<3,>=1.4 in /usr/local/lib/python3.10/dist-packages (from langchain) (2.0.19)\n",
            "Requirement already satisfied: aiohttp<4.0.0,>=3.8.3 in /usr/local/lib/python3.10/dist-packages (from langchain) (3.8.5)\n",
            "Requirement already satisfied: async-timeout<5.0.0,>=4.0.0 in /usr/local/lib/python3.10/dist-packages (from langchain) (4.0.2)\n",
            "Requirement already satisfied: dataclasses-json<0.6.0,>=0.5.7 in /usr/local/lib/python3.10/dist-packages (from langchain) (0.5.14)\n",
            "Requirement already satisfied: langsmith<0.1.0,>=0.0.11 in /usr/local/lib/python3.10/dist-packages (from langchain) (0.0.21)\n",
            "Requirement already satisfied: numexpr<3.0.0,>=2.8.4 in /usr/local/lib/python3.10/dist-packages (from langchain) (2.8.5)\n",
            "Requirement already satisfied: numpy<2,>=1 in /usr/local/lib/python3.10/dist-packages (from langchain) (1.23.5)\n",
            "Requirement already satisfied: openapi-schema-pydantic<2.0,>=1.2 in /usr/local/lib/python3.10/dist-packages (from langchain) (1.2.4)\n",
            "Requirement already satisfied: pydantic<2,>=1 in /usr/local/lib/python3.10/dist-packages (from langchain) (1.10.12)\n",
            "Requirement already satisfied: requests<3,>=2 in /usr/local/lib/python3.10/dist-packages (from langchain) (2.31.0)\n",
            "Requirement already satisfied: tenacity<9.0.0,>=8.1.0 in /usr/local/lib/python3.10/dist-packages (from langchain) (8.2.2)\n",
            "Requirement already satisfied: huggingface-hub<1.0,>=0.12 in /usr/local/lib/python3.10/dist-packages (from text-generation) (0.16.4)\n",
            "Requirement already satisfied: filelock in /usr/local/lib/python3.10/dist-packages (from transformers) (3.12.2)\n",
            "Requirement already satisfied: packaging>=20.0 in /usr/local/lib/python3.10/dist-packages (from transformers) (23.1)\n",
            "Requirement already satisfied: regex!=2019.12.17 in /usr/local/lib/python3.10/dist-packages (from transformers) (2023.6.3)\n",
            "Requirement already satisfied: tokenizers!=0.11.3,<0.14,>=0.11.1 in /usr/local/lib/python3.10/dist-packages (from transformers) (0.13.3)\n",
            "Requirement already satisfied: safetensors>=0.3.1 in /usr/local/lib/python3.10/dist-packages (from transformers) (0.3.2)\n",
            "Requirement already satisfied: tqdm>=4.27 in /usr/local/lib/python3.10/dist-packages (from transformers) (4.66.0)\n",
            "Requirement already satisfied: backoff>=2.2.1 in /usr/local/lib/python3.10/dist-packages (from runpod) (2.2.1)\n",
            "Requirement already satisfied: boto3>=1.26.165 in /usr/local/lib/python3.10/dist-packages (from runpod) (1.28.24)\n",
            "Requirement already satisfied: pillow>=9.5.0 in /usr/local/lib/python3.10/dist-packages (from runpod) (10.0.0)\n",
            "Requirement already satisfied: py-cpuinfo>=9.0.0 in /usr/local/lib/python3.10/dist-packages (from runpod) (9.0.0)\n",
            "Requirement already satisfied: tomli>=2.0.1 in /usr/local/lib/python3.10/dist-packages (from runpod) (2.0.1)\n",
            "Requirement already satisfied: tqdm-loggable>=0.1.4 in /usr/local/lib/python3.10/dist-packages (from runpod) (0.1.4)\n",
            "Requirement already satisfied: fastapi[all]>=0.99.0 in /usr/local/lib/python3.10/dist-packages (from runpod) (0.99.1)\n",
            "Requirement already satisfied: attrs>=17.3.0 in /usr/local/lib/python3.10/dist-packages (from aiohttp<4.0.0,>=3.8.3->langchain) (23.1.0)\n",
            "Requirement already satisfied: charset-normalizer<4.0,>=2.0 in /usr/local/lib/python3.10/dist-packages (from aiohttp<4.0.0,>=3.8.3->langchain) (3.2.0)\n",
            "Requirement already satisfied: multidict<7.0,>=4.5 in /usr/local/lib/python3.10/dist-packages (from aiohttp<4.0.0,>=3.8.3->langchain) (6.0.4)\n",
            "Requirement already satisfied: yarl<2.0,>=1.0 in /usr/local/lib/python3.10/dist-packages (from aiohttp<4.0.0,>=3.8.3->langchain) (1.9.2)\n",
            "Requirement already satisfied: frozenlist>=1.1.1 in /usr/local/lib/python3.10/dist-packages (from aiohttp<4.0.0,>=3.8.3->langchain) (1.4.0)\n",
            "Requirement already satisfied: aiosignal>=1.1.2 in /usr/local/lib/python3.10/dist-packages (from aiohttp<4.0.0,>=3.8.3->langchain) (1.3.1)\n",
            "Requirement already satisfied: botocore<1.32.0,>=1.31.24 in /usr/local/lib/python3.10/dist-packages (from boto3>=1.26.165->runpod) (1.31.24)\n",
            "Requirement already satisfied: jmespath<2.0.0,>=0.7.1 in /usr/local/lib/python3.10/dist-packages (from boto3>=1.26.165->runpod) (1.0.1)\n",
            "Requirement already satisfied: s3transfer<0.7.0,>=0.6.0 in /usr/local/lib/python3.10/dist-packages (from boto3>=1.26.165->runpod) (0.6.1)\n",
            "Requirement already satisfied: marshmallow<4.0.0,>=3.18.0 in /usr/local/lib/python3.10/dist-packages (from dataclasses-json<0.6.0,>=0.5.7->langchain) (3.20.1)\n",
            "Requirement already satisfied: typing-inspect<1,>=0.4.0 in /usr/local/lib/python3.10/dist-packages (from dataclasses-json<0.6.0,>=0.5.7->langchain) (0.9.0)\n",
            "Requirement already satisfied: starlette<0.28.0,>=0.27.0 in /usr/local/lib/python3.10/dist-packages (from fastapi[all]>=0.99.0->runpod) (0.27.0)\n",
            "Requirement already satisfied: typing-extensions>=4.5.0 in /usr/local/lib/python3.10/dist-packages (from fastapi[all]>=0.99.0->runpod) (4.7.1)\n",
            "Requirement already satisfied: email-validator>=1.1.1 in /usr/local/lib/python3.10/dist-packages (from fastapi[all]>=0.99.0->runpod) (2.0.0.post2)\n",
            "Requirement already satisfied: httpx>=0.23.0 in /usr/local/lib/python3.10/dist-packages (from fastapi[all]>=0.99.0->runpod) (0.24.1)\n",
            "Requirement already satisfied: itsdangerous>=1.1.0 in /usr/local/lib/python3.10/dist-packages (from fastapi[all]>=0.99.0->runpod) (2.1.2)\n",
            "Requirement already satisfied: jinja2>=2.11.2 in /usr/local/lib/python3.10/dist-packages (from fastapi[all]>=0.99.0->runpod) (3.1.2)\n",
            "Requirement already satisfied: orjson>=3.2.1 in /usr/local/lib/python3.10/dist-packages (from fastapi[all]>=0.99.0->runpod) (3.9.4)\n",
            "Requirement already satisfied: python-multipart>=0.0.5 in /usr/local/lib/python3.10/dist-packages (from fastapi[all]>=0.99.0->runpod) (0.0.6)\n",
            "Requirement already satisfied: ujson!=4.0.2,!=4.1.0,!=4.2.0,!=4.3.0,!=5.0.0,!=5.1.0,>=4.0.1 in /usr/local/lib/python3.10/dist-packages (from fastapi[all]>=0.99.0->runpod) (5.8.0)\n",
            "Requirement already satisfied: uvicorn[standard]>=0.12.0 in /usr/local/lib/python3.10/dist-packages (from fastapi[all]>=0.99.0->runpod) (0.23.2)\n",
            "Requirement already satisfied: fsspec in /usr/local/lib/python3.10/dist-packages (from huggingface-hub<1.0,>=0.12->text-generation) (2023.6.0)\n",
            "Requirement already satisfied: idna<4,>=2.5 in /usr/local/lib/python3.10/dist-packages (from requests<3,>=2->langchain) (3.4)\n",
            "Requirement already satisfied: urllib3<3,>=1.21.1 in /usr/local/lib/python3.10/dist-packages (from requests<3,>=2->langchain) (1.26.16)\n",
            "Requirement already satisfied: certifi>=2017.4.17 in /usr/local/lib/python3.10/dist-packages (from requests<3,>=2->langchain) (2023.7.22)\n",
            "Requirement already satisfied: greenlet!=0.4.17 in /usr/local/lib/python3.10/dist-packages (from SQLAlchemy<3,>=1.4->langchain) (2.0.2)\n",
            "Requirement already satisfied: python-dateutil<3.0.0,>=2.1 in /usr/local/lib/python3.10/dist-packages (from botocore<1.32.0,>=1.31.24->boto3>=1.26.165->runpod) (2.8.2)\n",
            "Requirement already satisfied: dnspython>=2.0.0 in /usr/local/lib/python3.10/dist-packages (from email-validator>=1.1.1->fastapi[all]>=0.99.0->runpod) (2.4.2)\n",
            "Requirement already satisfied: httpcore<0.18.0,>=0.15.0 in /usr/local/lib/python3.10/dist-packages (from httpx>=0.23.0->fastapi[all]>=0.99.0->runpod) (0.17.3)\n",
            "Requirement already satisfied: sniffio in /usr/local/lib/python3.10/dist-packages (from httpx>=0.23.0->fastapi[all]>=0.99.0->runpod) (1.3.0)\n",
            "Requirement already satisfied: MarkupSafe>=2.0 in /usr/local/lib/python3.10/dist-packages (from jinja2>=2.11.2->fastapi[all]>=0.99.0->runpod) (2.1.3)\n",
            "Requirement already satisfied: anyio<5,>=3.4.0 in /usr/local/lib/python3.10/dist-packages (from starlette<0.28.0,>=0.27.0->fastapi[all]>=0.99.0->runpod) (3.7.1)\n",
            "Requirement already satisfied: mypy-extensions>=0.3.0 in /usr/local/lib/python3.10/dist-packages (from typing-inspect<1,>=0.4.0->dataclasses-json<0.6.0,>=0.5.7->langchain) (1.0.0)\n",
            "Requirement already satisfied: click>=7.0 in /usr/local/lib/python3.10/dist-packages (from uvicorn[standard]>=0.12.0->fastapi[all]>=0.99.0->runpod) (8.1.6)\n",
            "Requirement already satisfied: h11>=0.8 in /usr/local/lib/python3.10/dist-packages (from uvicorn[standard]>=0.12.0->fastapi[all]>=0.99.0->runpod) (0.14.0)\n",
            "Requirement already satisfied: httptools>=0.5.0 in /usr/local/lib/python3.10/dist-packages (from uvicorn[standard]>=0.12.0->fastapi[all]>=0.99.0->runpod) (0.6.0)\n",
            "Requirement already satisfied: uvloop!=0.15.0,!=0.15.1,>=0.14.0 in /usr/local/lib/python3.10/dist-packages (from uvicorn[standard]>=0.12.0->fastapi[all]>=0.99.0->runpod) (0.17.0)\n",
            "Requirement already satisfied: watchfiles>=0.13 in /usr/local/lib/python3.10/dist-packages (from uvicorn[standard]>=0.12.0->fastapi[all]>=0.99.0->runpod) (0.19.0)\n",
            "Requirement already satisfied: websockets>=10.4 in /usr/local/lib/python3.10/dist-packages (from uvicorn[standard]>=0.12.0->fastapi[all]>=0.99.0->runpod) (11.0.3)\n",
            "Requirement already satisfied: exceptiongroup in /usr/local/lib/python3.10/dist-packages (from anyio<5,>=3.4.0->starlette<0.28.0,>=0.27.0->fastapi[all]>=0.99.0->runpod) (1.1.2)\n",
            "Requirement already satisfied: six>=1.5 in /usr/local/lib/python3.10/dist-packages (from python-dateutil<3.0.0,>=2.1->botocore<1.32.0,>=1.31.24->boto3>=1.26.165->runpod) (1.16.0)\n",
            "Proceed (Y/n)? y\n"
          ]
        }
      ]
    },
    {
      "cell_type": "markdown",
      "source": [
        "# **Inferência**"
      ],
      "metadata": {
        "id": "ObodFsYZHvOA"
      }
    },
    {
      "cell_type": "code",
      "source": [
        "from langchain.llms import HuggingFaceTextGenInference\n",
        "\n",
        "# Tire o comentário abaixo caso tenha criado o pod na célula acima.\n",
        "inference_server_url = f'https://{pod[\"id\"]}-80.proxy.runpod.net'\n",
        "llm = HuggingFaceTextGenInference(\n",
        "    inference_server_url=inference_server_url,\n",
        "    max_new_tokens=100,\n",
        "    top_p=0.5,\n",
        "    temperature=0.1,\n",
        ")"
      ],
      "metadata": {
        "id": "qILgOFymHq6Z"
      },
      "execution_count": null,
      "outputs": []
    },
    {
      "cell_type": "code",
      "source": [
        "from langchain import PromptTemplate\n",
        "from langchain.chains import LLMChain\n",
        "from langchain.llms import HuggingFaceTextGenInference\n",
        "import time\n",
        "\n",
        "contexto = '''Insina o contexto'''\n",
        "pergunta = '''Insira a pergunta?'''\n",
        "\n",
        "prompt_template = '''Responda à pergunta com a maior sinceridade possível usando o e, se a resposta não estiver contida no CONTEXTO abaixo, diga 'Desculpe, não possuo essa informação'.\n",
        "\n",
        "CONTEXTO: {contexto}\n",
        "\n",
        "Pergunta: {pergunta}\n",
        "\n",
        "Resposta:'''\n",
        "\n",
        "prompt = PromptTemplate(\n",
        "    input_variables=[\"contexto\", \"pergunta\"],\n",
        "    template=prompt_template,\n",
        ")\n",
        "chain = LLMChain(llm=llm, prompt=prompt)\n",
        "\n",
        "start_time = time.time()\n",
        "output = chain.run({\"contexto\": contexto, \"pergunta\": pergunta})\n",
        "end_time = time.time()\n",
        "\n",
        "print(f\"Elapsed time: {end_time - start_time} seconds\")\n",
        "print(output)"
      ],
      "metadata": {
        "id": "_DD0TEgPH8vP"
      },
      "execution_count": null,
      "outputs": []
    }
  ]
}