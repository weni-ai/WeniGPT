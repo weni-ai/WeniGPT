{
 "cells": [
  {
   "cell_type": "code",
   "execution_count": null,
   "id": "365b37fd-a0ac-4d2f-bac6-88aeffa4c6e4",
   "metadata": {},
   "outputs": [],
   "source": [
    "from huggingface_hub import HfApi"
   ]
  },
  {
   "cell_type": "code",
   "execution_count": null,
   "id": "dd2104df-4fe5-4379-ab73-565e92479fa0",
   "metadata": {},
   "outputs": [],
   "source": [
    "dir_model_name = \"zephyr7bbeta/31-01-24-HuggingFaceH4-zephyr-7b-beta_sft-multilanguage-2_epochs-3_batch_1_2024-01-31/checkpoints\"\n",
    "dir_model_name_destiny = \"Weni/WeniGPT-2.3.3-Zephyr-7B-zephyr-prompt-step4151-LLM_Base_2.0.3_SFT_reduction_variation\""
   ]
  },
  {
   "cell_type": "code",
   "execution_count": null,
   "id": "5394a823-48f1-4135-82f5-8d4b2ad7484f",
   "metadata": {},
   "outputs": [],
   "source": [
    "api = HfApi()\n",
    "api.create_repo(repo_id=dir_model_name_destiny,\n",
    "    repo_type=\"model\")"
   ]
  },
  {
   "cell_type": "code",
   "execution_count": null,
   "id": "a47d5a77-5cac-45fe-906c-b9f6a2426e53",
   "metadata": {},
   "outputs": [],
   "source": [
    "api.upload_folder(\n",
    "    folder_path=dir_model_name,\n",
    "    repo_id=dir_model_name_destiny,\n",
    "    repo_type=\"model\",\n",
    ")"
   ]
  }
 ],
 "metadata": {
  "kernelspec": {
   "display_name": "Python 3 (ipykernel)",
   "language": "python",
   "name": "python3"
  },
  "language_info": {
   "codemirror_mode": {
    "name": "ipython",
    "version": 3
   },
   "file_extension": ".py",
   "mimetype": "text/x-python",
   "name": "python",
   "nbconvert_exporter": "python",
   "pygments_lexer": "ipython3",
   "version": "3.10.12"
  }
 },
 "nbformat": 4,
 "nbformat_minor": 5
}
